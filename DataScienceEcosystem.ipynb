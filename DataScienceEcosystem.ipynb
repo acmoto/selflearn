{
 "cells": [
  {
   "cell_type": "markdown",
   "id": "d2695bac",
   "metadata": {},
   "source": [
    "# Data Science Tools and Ecosystem"
   ]
  },
  {
   "cell_type": "markdown",
   "id": "2bb8f1b3",
   "metadata": {},
   "source": [
    "## In this notebook, Data Science Tools and Ecosystem are summarized."
   ]
  },
  {
   "cell_type": "markdown",
   "id": "03c54f6a",
   "metadata": {},
   "source": [
    "### Some of the popular languages that Data Scientists use are: Python, R, SQL"
   ]
  },
  {
   "cell_type": "markdown",
   "id": "fd8d2854",
   "metadata": {},
   "source": [
    "### Some of the commonly used libraries used by Data Scientists include: NumPy, Pandas, pytorch"
   ]
  },
  {
   "cell_type": "markdown",
   "id": "1d9b967a",
   "metadata": {},
   "source": [
    " ### Data Science tools : Tableau, Apache spark, R"
   ]
  },
  {
   "cell_type": "markdown",
   "id": "ee864117",
   "metadata": {},
   "source": [
    "### Below are a few examples of evaluating arithmetic expressions in Python"
   ]
  },
  {
   "cell_type": "code",
   "execution_count": 4,
   "id": "8e1fdf2d",
   "metadata": {},
   "outputs": [],
   "source": [
    "## This a simple arithmetic expression to mutiply then add integers"
   ]
  },
  {
   "cell_type": "code",
   "execution_count": 5,
   "id": "818d2d65",
   "metadata": {},
   "outputs": [
    {
     "data": {
      "text/plain": [
       "17"
      ]
     },
     "execution_count": 5,
     "metadata": {},
     "output_type": "execute_result"
    }
   ],
   "source": [
    "(3*4)+5"
   ]
  },
  {
   "cell_type": "code",
   "execution_count": 6,
   "id": "e1ed2059",
   "metadata": {},
   "outputs": [],
   "source": [
    "# This will convert 200 minutes to hours by diving by 60"
   ]
  },
  {
   "cell_type": "code",
   "execution_count": 13,
   "id": "e94b5a5f",
   "metadata": {},
   "outputs": [
    {
     "name": "stdout",
     "output_type": "stream",
     "text": [
      "3.3333333333333335\n"
     ]
    }
   ],
   "source": [
    "Minutes = 200 \n",
    "Hours = (200/60)\n",
    "print(Hours)"
   ]
  },
  {
   "cell_type": "markdown",
   "id": "53764cc5",
   "metadata": {},
   "source": [
    "## Objectives:"
   ]
  },
  {
   "cell_type": "markdown",
   "id": "aaaa2b5a",
   "metadata": {},
   "source": [
    "## Python.R.SQL.Java.Julia."
   ]
  },
  {
   "cell_type": "code",
   "execution_count": null,
   "id": "4347ed07",
   "metadata": {},
   "outputs": [],
   "source": []
  }
 ],
 "metadata": {
  "kernelspec": {
   "display_name": "Python 3 (ipykernel)",
   "language": "python",
   "name": "python3"
  },
  "language_info": {
   "codemirror_mode": {
    "name": "ipython",
    "version": 3
   },
   "file_extension": ".py",
   "mimetype": "text/x-python",
   "name": "python",
   "nbconvert_exporter": "python",
   "pygments_lexer": "ipython3",
   "version": "3.11.4"
  }
 },
 "nbformat": 4,
 "nbformat_minor": 5
}
